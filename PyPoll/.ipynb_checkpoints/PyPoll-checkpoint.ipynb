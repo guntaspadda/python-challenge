{
 "cells": [
  {
   "cell_type": "code",
   "execution_count": 5,
   "id": "77198246",
   "metadata": {},
   "outputs": [],
   "source": [
    "import os\n",
    "import csv\n",
    "\n",
    "# Open the file of interest and put it in read mode\n",
    "csvpath = os.path.join('.','Resources','election_data.csv')\n",
    "\n",
    "with open(csvpath) as csvfile:\n",
    "    csvreader = csv.reader(csvfile, delimiter = ',')\n",
    "    csv_header = next(csvreader)\n",
    "\n",
    "    rowcount = 0\n",
    "    candidates = []\n",
    "    candidate_votecount = {}\n",
    "    candidate_percentage = {}\n",
    "    candidate_results = {}\n",
    "    for row in csvreader:\n",
    "        # Total Votes: Count the number of rows in the file\n",
    "        rowcount += 1 \n",
    "        \n",
    "        # Candidate List: Create a list of unique values from the candidate column (source:https://www.geeksforgeeks.org/python-get-unique-values-list/)\n",
    "        # Total Votes Per Candidate: Store the total votes for each candidate in a dictionary\n",
    "        candidate = str(row[2])\n",
    "        if candidate not in candidates:\n",
    "            candidates.append(candidate)\n",
    "            candidate_votecount[candidate] = 1\n",
    "        else:\n",
    "            candidate_votecount[candidate] += 1\n",
    "            \n",
    "    # Percentage of Votes Per Candidate: Create a dictionary to store the % votes for each candidate (% format source: https://www.askpython.com/python/examples/print-a-percentage-value-in-python#:~:text=format()%20function.,printed%20in%20the%20next%20line.)\n",
    "    for candidate in candidates:\n",
    "        percent_votes_int = int(candidate_votecount[candidate])/rowcount\n",
    "        percentage_votes = \"{:.0%}\".format(percent_votes_int)\n",
    "        candidate_percentage[candidate] = percentage_votes\n",
    "    for candidate in candidates:\n",
    "        candidate_results[candidate] = (candidate_percentage[candidate], candidate_votecount[candidate])\n",
    "        \n",
    "    # Election Winner: Return the candidate with the max votecount (source: https://www.w3resource.com/python-exercises/dictionary/python-data-type-dictionary-exercise-80.php#:~:text=Use%20max()%20with%20the,value%20in%20the%20given%20dictionary.)    \n",
    "    def winner(d):\n",
    "        return max(d, key = d.get)\n",
    "   \n",
    "\n",
    "# Results\n",
    "with open('Analysis/results.text','w') as f:\n",
    "    f.write('Election Results\\n')\n",
    "    f.write('--------\\n')\n",
    "    f.write('Total Votes: ' + str(rowcount))\n",
    "    f.write(' \\n')\n",
    "    f.write('--------\\n')\n",
    "    f.write(str(candidate_results))\n",
    "    f.write(' \\n')\n",
    "    f.write('--------')\n",
    "    f.write(' \\n')\n",
    "    f.write('Winner: ' + str(winner(candidate_votecount)))\n",
    "    f.write(' \\n')\n",
    "    f.write('--------')"
   ]
  },
  {
   "cell_type": "code",
   "execution_count": null,
   "id": "aad2d9af",
   "metadata": {},
   "outputs": [],
   "source": []
  }
 ],
 "metadata": {
  "kernelspec": {
   "display_name": "Python 3 (ipykernel)",
   "language": "python",
   "name": "python3"
  },
  "language_info": {
   "codemirror_mode": {
    "name": "ipython",
    "version": 3
   },
   "file_extension": ".py",
   "mimetype": "text/x-python",
   "name": "python",
   "nbconvert_exporter": "python",
   "pygments_lexer": "ipython3",
   "version": "3.11.4"
  }
 },
 "nbformat": 4,
 "nbformat_minor": 5
}
